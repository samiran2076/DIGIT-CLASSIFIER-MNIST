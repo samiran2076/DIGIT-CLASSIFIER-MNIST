{
 "cells": [
  {
   "cell_type": "markdown",
   "metadata": {},
   "source": [
    "# RANDOM FOREST CLASSIFIER"
   ]
  },
  {
   "cell_type": "code",
   "execution_count": 1,
   "metadata": {
    "execution": {
     "iopub.execute_input": "2021-07-03T09:03:54.902731Z",
     "iopub.status.busy": "2021-07-03T09:03:54.902297Z",
     "iopub.status.idle": "2021-07-03T09:03:56.770759Z",
     "shell.execute_reply": "2021-07-03T09:03:56.769137Z",
     "shell.execute_reply.started": "2021-07-03T09:03:54.902622Z"
    }
   },
   "outputs": [],
   "source": [
    "# Imports for data loading and array math\n",
    "import numpy as np\n",
    "import pandas as pd\n",
    "\n",
    "# Imports for visualization\n",
    "import matplotlib.pyplot as plt\n",
    "#import matplotlib as mpl\n",
    "%matplotlib inline\n",
    "\n",
    "# Import for data split\n",
    "from sklearn.model_selection import train_test_split\n",
    "from sklearn.neighbors import KNeighborsClassifier\n",
    "from sklearn.metrics import confusion_matrix, accuracy_score\n",
    "from sklearn.cluster import KMeans\n",
    "from sklearn.svm import SVC\n",
    "from sklearn.metrics import confusion_matrix\n",
    "from sklearn.model_selection import validation_curve\n",
    "from sklearn.model_selection import KFold\n",
    "from sklearn.model_selection import cross_val_score\n",
    "from sklearn.model_selection import GridSearchCV\n",
    "from sklearn.ensemble import RandomForestClassifier\n",
    "import matplotlib.pyplot as plt\n",
    "import seaborn as sns\n",
    "import time\n",
    "from sklearn.preprocessing import StandardScaler"
   ]
  },
  {
   "cell_type": "code",
   "execution_count": 3,
   "metadata": {
    "execution": {
     "iopub.execute_input": "2021-07-03T09:11:24.466144Z",
     "iopub.status.busy": "2021-07-03T09:11:24.465778Z",
     "iopub.status.idle": "2021-07-03T09:11:29.200609Z",
     "shell.execute_reply": "2021-07-03T09:11:29.199501Z",
     "shell.execute_reply.started": "2021-07-03T09:11:24.466114Z"
    }
   },
   "outputs": [],
   "source": [
    "train = pd.read_csv('train.csv')\n",
    "\n",
    "test = pd.read_csv('test.csv')\n",
    "test=test.iloc[:,:].values"
   ]
  },
  {
   "cell_type": "code",
   "execution_count": 4,
   "metadata": {
    "execution": {
     "iopub.execute_input": "2021-07-03T09:11:35.146141Z",
     "iopub.status.busy": "2021-07-03T09:11:35.145742Z",
     "iopub.status.idle": "2021-07-03T09:11:35.153856Z",
     "shell.execute_reply": "2021-07-03T09:11:35.152810Z",
     "shell.execute_reply.started": "2021-07-03T09:11:35.146109Z"
    }
   },
   "outputs": [
    {
     "data": {
      "text/plain": [
       "array([1, 0, 1, ..., 7, 6, 9], dtype=int64)"
      ]
     },
     "execution_count": 4,
     "metadata": {},
     "output_type": "execute_result"
    }
   ],
   "source": [
    "X = train.iloc[:, 1:].values #removing 'label' column\n",
    "Y = train.iloc[:, 0].values #'labels column'\n",
    "(Y)"
   ]
  },
  {
   "cell_type": "code",
   "execution_count": 5,
   "metadata": {
    "execution": {
     "iopub.execute_input": "2021-07-03T09:11:36.179882Z",
     "iopub.status.busy": "2021-07-03T09:11:36.179508Z",
     "iopub.status.idle": "2021-07-03T09:11:36.653314Z",
     "shell.execute_reply": "2021-07-03T09:11:36.652415Z",
     "shell.execute_reply.started": "2021-07-03T09:11:36.179844Z"
    }
   },
   "outputs": [],
   "source": [
    "sc = StandardScaler()\n",
    "X_S= (X-X.mean())/(X.std())"
   ]
  },
  {
   "cell_type": "code",
   "execution_count": 6,
   "metadata": {
    "execution": {
     "iopub.execute_input": "2021-07-03T09:11:38.330394Z",
     "iopub.status.busy": "2021-07-03T09:11:38.329945Z",
     "iopub.status.idle": "2021-07-03T09:11:38.805319Z",
     "shell.execute_reply": "2021-07-03T09:11:38.803857Z",
     "shell.execute_reply.started": "2021-07-03T09:11:38.330359Z"
    }
   },
   "outputs": [
    {
     "data": {
      "text/plain": [
       "(33600, 784)"
      ]
     },
     "execution_count": 6,
     "metadata": {},
     "output_type": "execute_result"
    }
   ],
   "source": [
    "X_train_rf,X_test_rf,Y_train_rf,Y_test_rf = train_test_split(X_S,Y,train_size=0.8,random_state=1)\n",
    "\n",
    "type(X_train_rf),type(X_test_rf),type(Y_train_rf),type(Y_test_rf)\n",
    "X_train_rf.shape"
   ]
  },
  {
   "cell_type": "code",
   "execution_count": 7,
   "metadata": {
    "execution": {
     "iopub.execute_input": "2021-07-03T09:12:35.613811Z",
     "iopub.status.busy": "2021-07-03T09:12:35.613362Z",
     "iopub.status.idle": "2021-07-03T09:12:58.704853Z",
     "shell.execute_reply": "2021-07-03T09:12:58.703153Z",
     "shell.execute_reply.started": "2021-07-03T09:12:35.613778Z"
    }
   },
   "outputs": [],
   "source": [
    "from sklearn.ensemble import RandomForestClassifier\n",
    "rfcl=RandomForestClassifier()\n",
    "rfcl=rfcl.fit(X_train_rf,Y_train_rf)\n"
   ]
  },
  {
   "cell_type": "code",
   "execution_count": 10,
   "metadata": {
    "execution": {
     "iopub.execute_input": "2021-07-03T09:13:07.565725Z",
     "iopub.status.busy": "2021-07-03T09:13:07.565322Z",
     "iopub.status.idle": "2021-07-03T09:13:07.802178Z",
     "shell.execute_reply": "2021-07-03T09:13:07.801383Z",
     "shell.execute_reply.started": "2021-07-03T09:13:07.565686Z"
    }
   },
   "outputs": [
    {
     "data": {
      "text/plain": [
       "['rfcl_14']"
      ]
     },
     "execution_count": 10,
     "metadata": {},
     "output_type": "execute_result"
    }
   ],
   "source": [
    "import joblib\n",
    "import os\n",
    "joblib.dump(rfcl, \"rfcl_14\")  "
   ]
  },
  {
   "cell_type": "code",
   "execution_count": 11,
   "metadata": {
    "execution": {
     "iopub.execute_input": "2021-07-03T09:13:09.066136Z",
     "iopub.status.busy": "2021-07-03T09:13:09.065581Z",
     "iopub.status.idle": "2021-07-03T09:13:09.171001Z",
     "shell.execute_reply": "2021-07-03T09:13:09.170218Z",
     "shell.execute_reply.started": "2021-07-03T09:13:09.066088Z"
    }
   },
   "outputs": [],
   "source": [
    "model = joblib.load(\"rfcl_14\")"
   ]
  },
  {
   "cell_type": "code",
   "execution_count": 15,
   "metadata": {
    "execution": {
     "iopub.execute_input": "2021-07-03T09:16:33.680348Z",
     "iopub.status.busy": "2021-07-03T09:16:33.679981Z",
     "iopub.status.idle": "2021-07-03T09:16:33.717460Z",
     "shell.execute_reply": "2021-07-03T09:16:33.716236Z",
     "shell.execute_reply.started": "2021-07-03T09:16:33.680308Z"
    }
   },
   "outputs": [
    {
     "name": "stdout",
     "output_type": "stream",
     "text": [
      "Prediction:  8\n"
     ]
    }
   ],
   "source": [
    "import cv2\n",
    "im = cv2.imread(\"2.png\")\n",
    "\n",
    "im_gray = cv2.cvtColor(im, cv2.COLOR_BGR2GRAY)\n",
    "# Threshold the image\n",
    "roi = cv2.resize(im_gray, (28,28), interpolation = cv2.INTER_AREA)\n",
    "\n",
    "rows, cols = roi.shape\n",
    "\n",
    "C= []\n",
    "\n",
    "## Add pixel value one by one in to data array\n",
    "for i in range(rows):\n",
    "    for j in range(cols):\n",
    "        C.append(roi[i,j])\n",
    "arr=np.array(C)        \n",
    "arr=(arr-arr.mean())/(arr.std())  \n",
    "\n",
    "predictions = model.predict([arr])\n",
    "print(\"Prediction: \", predictions[0])"
   ]
  },
  {
   "cell_type": "code",
   "execution_count": null,
   "metadata": {},
   "outputs": [],
   "source": []
  }
 ],
 "metadata": {
  "kernelspec": {
   "display_name": "Python 3",
   "language": "python",
   "name": "python3"
  },
  "language_info": {
   "codemirror_mode": {
    "name": "ipython",
    "version": 3
   },
   "file_extension": ".py",
   "mimetype": "text/x-python",
   "name": "python",
   "nbconvert_exporter": "python",
   "pygments_lexer": "ipython3",
   "version": "3.8.8"
  }
 },
 "nbformat": 4,
 "nbformat_minor": 4
}
