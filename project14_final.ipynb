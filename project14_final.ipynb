{
 "cells": [
  {
   "cell_type": "markdown",
   "metadata": {},
   "source": [
    "# # # paths to be used if executed on jupyter:\n",
    "train = pd.read_csv('train.csv'), \n",
    "test = pd.read_csv('test.csv')"
   ]
  },
  {
   "cell_type": "code",
   "execution_count": 1,
   "metadata": {
    "_cell_guid": "b1076dfc-b9ad-4769-8c92-a6c4dae69d19",
    "_uuid": "8f2839f25d086af736a60e9eeb907d3b93b6e0e5",
    "execution": {
     "iopub.execute_input": "2021-07-02T15:57:48.013759Z",
     "iopub.status.busy": "2021-07-02T15:57:48.012786Z",
     "iopub.status.idle": "2021-07-02T15:57:49.340644Z",
     "shell.execute_reply": "2021-07-02T15:57:49.339493Z",
     "shell.execute_reply.started": "2021-07-02T15:57:48.013606Z"
    }
   },
   "outputs": [],
   "source": [
    "# Imports for data loading and array math\n",
    "import numpy as np\n",
    "import pandas as pd\n",
    "\n",
    "# Imports for visualization\n",
    "import matplotlib.pyplot as plt\n",
    "import seaborn as sns\n",
    "#import matplotlib as mpl\n",
    "%matplotlib inline\n",
    "\n",
    "# Import for data split\n",
    "from sklearn.model_selection import train_test_split\n",
    "from sklearn.neighbors import KNeighborsClassifier\n",
    "from sklearn.metrics import accuracy_score\n",
    "\n",
    "from sklearn.svm import SVC\n",
    "from sklearn.metrics import confusion_matrix\n",
    "from sklearn.model_selection import KFold\n",
    "from sklearn.model_selection import cross_val_score\n",
    "from sklearn.model_selection import GridSearchCV\n",
    "from sklearn.ensemble import RandomForestClassifier\n",
    "\n",
    "from sklearn.preprocessing import StandardScaler\n",
    "from sklearn.tree import DecisionTreeClassifier\n"
   ]
  },
  {
   "cell_type": "code",
   "execution_count": 3,
   "metadata": {
    "execution": {
     "iopub.execute_input": "2021-07-02T15:57:54.803975Z",
     "iopub.status.busy": "2021-07-02T15:57:54.803411Z",
     "iopub.status.idle": "2021-07-02T15:58:00.819257Z",
     "shell.execute_reply": "2021-07-02T15:58:00.818085Z",
     "shell.execute_reply.started": "2021-07-02T15:57:54.803919Z"
    }
   },
   "outputs": [],
   "source": [
    "train = pd.read_csv('train.csv')\n",
    "\n",
    "test = pd.read_csv('test.csv')\n"
   ]
  },
  {
   "cell_type": "markdown",
   "metadata": {},
   "source": [
    "# Exploratory Data Analysis "
   ]
  },
  {
   "cell_type": "code",
   "execution_count": null,
   "metadata": {
    "execution": {
     "iopub.execute_input": "2021-07-02T14:13:49.904225Z",
     "iopub.status.busy": "2021-07-02T14:13:49.903903Z",
     "iopub.status.idle": "2021-07-02T14:13:49.911266Z",
     "shell.execute_reply": "2021-07-02T14:13:49.910334Z",
     "shell.execute_reply.started": "2021-07-02T14:13:49.904191Z"
    }
   },
   "outputs": [],
   "source": [
    "train.shape,test.shape"
   ]
  },
  {
   "cell_type": "code",
   "execution_count": null,
   "metadata": {
    "execution": {
     "iopub.execute_input": "2021-07-02T14:13:49.913335Z",
     "iopub.status.busy": "2021-07-02T14:13:49.912701Z",
     "iopub.status.idle": "2021-07-02T14:13:49.947803Z",
     "shell.execute_reply": "2021-07-02T14:13:49.947048Z",
     "shell.execute_reply.started": "2021-07-02T14:13:49.913297Z"
    }
   },
   "outputs": [],
   "source": [
    "train.head()"
   ]
  },
  {
   "cell_type": "code",
   "execution_count": null,
   "metadata": {
    "execution": {
     "iopub.execute_input": "2021-07-02T14:13:50.014149Z",
     "iopub.status.busy": "2021-07-02T14:13:50.013899Z",
     "iopub.status.idle": "2021-07-02T14:13:50.03287Z",
     "shell.execute_reply": "2021-07-02T14:13:50.032128Z",
     "shell.execute_reply.started": "2021-07-02T14:13:50.014125Z"
    }
   },
   "outputs": [],
   "source": [
    "test.head()"
   ]
  },
  {
   "cell_type": "code",
   "execution_count": null,
   "metadata": {
    "execution": {
     "iopub.execute_input": "2021-07-02T14:13:50.304952Z",
     "iopub.status.busy": "2021-07-02T14:13:50.304639Z",
     "iopub.status.idle": "2021-07-02T14:13:50.31337Z",
     "shell.execute_reply": "2021-07-02T14:13:50.312616Z",
     "shell.execute_reply.started": "2021-07-02T14:13:50.304924Z"
    }
   },
   "outputs": [],
   "source": [
    "type(train),type(test)"
   ]
  },
  {
   "cell_type": "code",
   "execution_count": null,
   "metadata": {
    "execution": {
     "iopub.execute_input": "2021-07-02T14:13:50.653886Z",
     "iopub.status.busy": "2021-07-02T14:13:50.653575Z",
     "iopub.status.idle": "2021-07-02T14:13:50.658993Z",
     "shell.execute_reply": "2021-07-02T14:13:50.658054Z",
     "shell.execute_reply.started": "2021-07-02T14:13:50.653858Z"
    }
   },
   "outputs": [],
   "source": [
    "np.ndim(train)"
   ]
  },
  {
   "cell_type": "code",
   "execution_count": null,
   "metadata": {
    "execution": {
     "iopub.execute_input": "2021-07-02T14:13:50.921651Z",
     "iopub.status.busy": "2021-07-02T14:13:50.921342Z",
     "iopub.status.idle": "2021-07-02T14:13:53.068929Z",
     "shell.execute_reply": "2021-07-02T14:13:53.067974Z",
     "shell.execute_reply.started": "2021-07-02T14:13:50.921622Z"
    }
   },
   "outputs": [],
   "source": [
    "train.describe()"
   ]
  },
  {
   "cell_type": "code",
   "execution_count": null,
   "metadata": {
    "execution": {
     "iopub.execute_input": "2021-07-02T14:13:53.070939Z",
     "iopub.status.busy": "2021-07-02T14:13:53.070565Z",
     "iopub.status.idle": "2021-07-02T14:13:55.091045Z",
     "shell.execute_reply": "2021-07-02T14:13:55.090247Z",
     "shell.execute_reply.started": "2021-07-02T14:13:53.070904Z"
    }
   },
   "outputs": [],
   "source": [
    "test.describe()"
   ]
  },
  {
   "cell_type": "code",
   "execution_count": null,
   "metadata": {
    "execution": {
     "iopub.execute_input": "2021-07-02T14:13:55.093028Z",
     "iopub.status.busy": "2021-07-02T14:13:55.09267Z",
     "iopub.status.idle": "2021-07-02T14:13:55.099465Z",
     "shell.execute_reply": "2021-07-02T14:13:55.098412Z",
     "shell.execute_reply.started": "2021-07-02T14:13:55.09299Z"
    }
   },
   "outputs": [],
   "source": [
    "print(train.columns)\n",
    "print(test.columns)"
   ]
  },
  {
   "cell_type": "code",
   "execution_count": null,
   "metadata": {
    "execution": {
     "iopub.execute_input": "2021-07-02T14:13:55.101488Z",
     "iopub.status.busy": "2021-07-02T14:13:55.101077Z",
     "iopub.status.idle": "2021-07-02T14:13:55.117723Z",
     "shell.execute_reply": "2021-07-02T14:13:55.116732Z",
     "shell.execute_reply.started": "2021-07-02T14:13:55.101449Z"
    }
   },
   "outputs": [],
   "source": [
    "label=sorted(train.iloc[:,0])"
   ]
  },
  {
   "cell_type": "code",
   "execution_count": null,
   "metadata": {
    "execution": {
     "iopub.execute_input": "2021-07-02T14:13:55.172999Z",
     "iopub.status.busy": "2021-07-02T14:13:55.172714Z",
     "iopub.status.idle": "2021-07-02T14:13:55.178426Z",
     "shell.execute_reply": "2021-07-02T14:13:55.177558Z",
     "shell.execute_reply.started": "2021-07-02T14:13:55.172973Z"
    }
   },
   "outputs": [],
   "source": [
    "label = list(np.sort(train['label'].unique()))\n",
    "print(label)"
   ]
  },
  {
   "cell_type": "code",
   "execution_count": null,
   "metadata": {
    "execution": {
     "iopub.execute_input": "2021-07-02T14:13:55.470605Z",
     "iopub.status.busy": "2021-07-02T14:13:55.470325Z",
     "iopub.status.idle": "2021-07-02T14:13:55.633368Z",
     "shell.execute_reply": "2021-07-02T14:13:55.63238Z",
     "shell.execute_reply.started": "2021-07-02T14:13:55.47058Z"
    }
   },
   "outputs": [],
   "source": [
    "sns.countplot(train[\"label\"])"
   ]
  },
  {
   "cell_type": "code",
   "execution_count": null,
   "metadata": {},
   "outputs": [],
   "source": [
    "## Visualizing the number of class and counts in the datasets #THIS IS A BALANCED DATASET\n",
    "#plt.plot(figure = (1,1))\n",
    "g = sns.countplot( train[\"label\"], palette = 'icefire')\n",
    "plt.title('Number of digit classes')\n",
    "train.label.astype('category').value_counts()"
   ]
  },
  {
   "cell_type": "code",
   "execution_count": null,
   "metadata": {
    "execution": {
     "iopub.execute_input": "2021-07-02T15:58:12.717077Z",
     "iopub.status.busy": "2021-07-02T15:58:12.716332Z"
    }
   },
   "outputs": [],
   "source": [
    "#no outliers present \n",
    "fig, ax = plt.subplots(figsize=(500,350))\n",
    "sns.boxplot(data=train, width= 0.5,ax=ax,  fliersize=3)"
   ]
  },
  {
   "cell_type": "code",
   "execution_count": 4,
   "metadata": {
    "execution": {
     "iopub.execute_input": "2021-07-02T14:13:56.337834Z",
     "iopub.status.busy": "2021-07-02T14:13:56.337513Z",
     "iopub.status.idle": "2021-07-02T14:13:56.342327Z",
     "shell.execute_reply": "2021-07-02T14:13:56.34144Z",
     "shell.execute_reply.started": "2021-07-02T14:13:56.337803Z"
    }
   },
   "outputs": [],
   "source": [
    "X = train.iloc[:, 1:].values #removing 'label' column\n",
    "Y = train.iloc[:, 0].values #'labels column'\n",
    "\n",
    "test=test.iloc[:,:].values"
   ]
  },
  {
   "cell_type": "code",
   "execution_count": 5,
   "metadata": {
    "execution": {
     "iopub.execute_input": "2021-07-02T14:13:57.027915Z",
     "iopub.status.busy": "2021-07-02T14:13:57.027588Z",
     "iopub.status.idle": "2021-07-02T14:13:57.032543Z",
     "shell.execute_reply": "2021-07-02T14:13:57.031317Z",
     "shell.execute_reply.started": "2021-07-02T14:13:57.027884Z"
    }
   },
   "outputs": [],
   "source": [
    "#for visualising the pictures\n",
    "def drawImg(sample):\n",
    "    img=sample.reshape((28,28))\n",
    "    plt.imshow(img,cmap='gray')\n",
    "    plt.show()"
   ]
  },
  {
   "cell_type": "code",
   "execution_count": 6,
   "metadata": {
    "execution": {
     "iopub.execute_input": "2021-07-02T14:14:00.439019Z",
     "iopub.status.busy": "2021-07-02T14:14:00.438686Z",
     "iopub.status.idle": "2021-07-02T14:14:01.621165Z",
     "shell.execute_reply": "2021-07-02T14:14:01.620272Z",
     "shell.execute_reply.started": "2021-07-02T14:14:00.438987Z"
    }
   },
   "outputs": [],
   "source": [
    "from sklearn.preprocessing import StandardScaler #normalizing the data\n",
    "sc=StandardScaler()\n",
    "X_S=sc.fit_transform(X)\n",
    "test=sc.fit_transform(test)"
   ]
  },
  {
   "cell_type": "code",
   "execution_count": 7,
   "metadata": {
    "execution": {
     "iopub.execute_input": "2021-07-02T14:14:01.966459Z",
     "iopub.status.busy": "2021-07-02T14:14:01.966077Z",
     "iopub.status.idle": "2021-07-02T14:14:02.197206Z",
     "shell.execute_reply": "2021-07-02T14:14:02.196434Z",
     "shell.execute_reply.started": "2021-07-02T14:14:01.966428Z"
    }
   },
   "outputs": [
    {
     "data": {
      "image/png": "[encoded data removed]",
      "text/plain": [
       "<Figure size 432x288 with 1 Axes>"
      ]
     },
     "metadata": {
      "needs_background": "light"
     },
     "output_type": "display_data"
    },
    {
     "data": {
      "image/png": "[encoded data removed]",
      "text/plain": [
       "<Figure size 432x288 with 1 Axes>"
      ]
     },
     "metadata": {
      "needs_background": "light"
     },
     "output_type": "display_data"
    }
   ],
   "source": [
    "drawImg(X[0])\n",
    "drawImg(X_S[0])"
   ]
  },
  {
   "cell_type": "code",
   "execution_count": 8,
   "metadata": {
    "execution": {
     "iopub.execute_input": "2021-07-02T11:01:07.013527Z",
     "iopub.status.busy": "2021-07-02T11:01:07.013187Z",
     "iopub.status.idle": "2021-07-02T11:01:07.400067Z",
     "shell.execute_reply": "2021-07-02T11:01:07.399057Z",
     "shell.execute_reply.started": "2021-07-02T11:01:07.01349Z"
    }
   },
   "outputs": [
    {
     "data": {
      "text/plain": [
       "((29400, 784), (29400,), (12600, 784), (12600,))"
      ]
     },
     "execution_count": 8,
     "metadata": {},
     "output_type": "execute_result"
    }
   ],
   "source": [
    "from sklearn.model_selection import train_test_split #splitting for knn\n",
    "\n",
    "x_train,x_test,y_train,y_test=train_test_split(X_S, Y,test_size=0.3,random_state=1)\n",
    "\n",
    "x_train.shape, y_train.shape, x_test.shape, y_test.shape"
   ]
  },
  {
   "cell_type": "code",
   "execution_count": null,
   "metadata": {
    "execution": {
     "iopub.execute_input": "2021-07-02T11:01:07.401863Z",
     "iopub.status.busy": "2021-07-02T11:01:07.401513Z",
     "iopub.status.idle": "2021-07-02T11:02:07.469528Z",
     "shell.execute_reply": "2021-07-02T11:02:07.467844Z",
     "shell.execute_reply.started": "2021-07-02T11:01:07.401826Z"
    }
   },
   "outputs": [],
   "source": [
    "from sklearn.neighbors import KNeighborsClassifier\n",
    "\n",
    "ac_score = []\n",
    "for k in range(3,10,2):\n",
    "    knn=KNeighborsClassifier(n_neighbors=k)\n",
    "    knn.fit(x_train, y_train)\n",
    "    knn_predict=knn.predict(x_test)\n",
    "    accuracy = accuracy_score(knn_predict, y_test)\n",
    "    ac_score.append(accuracy)\n",
    "    print(\"Accuracy: \",accuracy,\"for k= \",k)\n",
    "    print(\"Confusion Matrix:\\n\", confusion_matrix(knn_predict,y_test))\n",
    "    print(\"\\n---------------\\n\")\n",
    "\n",
    "#time taken:50.55s"
   ]
  },
  {
   "cell_type": "code",
   "execution_count": null,
   "metadata": {
    "execution": {
     "iopub.execute_input": "2021-07-02T11:02:07.471237Z",
     "iopub.status.busy": "2021-07-02T11:02:07.470873Z",
     "iopub.status.idle": "2021-07-02T11:02:07.479118Z",
     "shell.execute_reply": "2021-07-02T11:02:07.478043Z",
     "shell.execute_reply.started": "2021-07-02T11:02:07.471201Z"
    }
   },
   "outputs": [],
   "source": [
    "ac_score"
   ]
  },
  {
   "cell_type": "code",
   "execution_count": null,
   "metadata": {
    "execution": {
     "iopub.execute_input": "2021-07-02T11:02:07.480991Z",
     "iopub.status.busy": "2021-07-02T11:02:07.480604Z",
     "iopub.status.idle": "2021-07-02T11:02:07.615088Z",
     "shell.execute_reply": "2021-07-02T11:02:07.614156Z",
     "shell.execute_reply.started": "2021-07-02T11:02:07.480921Z"
    }
   },
   "outputs": [],
   "source": [
    "plt.plot(range(3,10,2), ac_score)\n",
    "plt.title('Determining the Optimal Number of Neighbors')\n",
    "plt.xlabel('K - Number of Neighbors')\n",
    "plt.ylabel('Accuracy_score')\n",
    "plt.show()"
   ]
  },
  {
   "cell_type": "code",
   "execution_count": null,
   "metadata": {
    "execution": {
     "iopub.execute_input": "2021-07-02T11:02:07.616703Z",
     "iopub.status.busy": "2021-07-02T11:02:07.616364Z",
     "iopub.status.idle": "2021-07-02T11:02:23.212384Z",
     "shell.execute_reply": "2021-07-02T11:02:23.210522Z",
     "shell.execute_reply.started": "2021-07-02T11:02:07.616668Z"
    }
   },
   "outputs": [],
   "source": [
    "#since we got maximum accuracy for k=5\n",
    "from sklearn.neighbors import KNeighborsClassifier\n",
    "knn5=KNeighborsClassifier(n_neighbors=5)\n",
    "knn5.fit(x_train, y_train)\n",
    "knn5_predict=knn5.predict(x_test)\n",
    "accuracy_knn5 = accuracy_score(knn5_predict, y_test)\n",
    "accuracy_knn5\n",
    "#time taken:16.14s"
   ]
  },
  {
   "cell_type": "code",
   "execution_count": null,
   "metadata": {
    "execution": {
     "iopub.execute_input": "2021-07-02T11:02:23.218129Z",
     "iopub.status.busy": "2021-07-02T11:02:23.216284Z",
     "iopub.status.idle": "2021-07-02T11:03:29.713446Z",
     "shell.execute_reply": "2021-07-02T11:03:29.712521Z",
     "shell.execute_reply.started": "2021-07-02T11:02:23.218088Z"
    }
   },
   "outputs": [],
   "source": [
    "from sklearn.model_selection import cross_val_score\n",
    "#ten fold cross validation\n",
    "#model with k=5 is giving highest accuracy\n",
    "\n",
    "\n",
    "score=cross_val_score(knn5,X_S,Y,cv=10)\n",
    "#time taken:62s"
   ]
  },
  {
   "cell_type": "code",
   "execution_count": null,
   "metadata": {
    "execution": {
     "iopub.execute_input": "2021-07-02T11:03:29.716153Z",
     "iopub.status.busy": "2021-07-02T11:03:29.715775Z",
     "iopub.status.idle": "2021-07-02T11:03:29.724865Z",
     "shell.execute_reply": "2021-07-02T11:03:29.7237Z",
     "shell.execute_reply.started": "2021-07-02T11:03:29.716117Z"
    }
   },
   "outputs": [],
   "source": [
    "score , score.mean()"
   ]
  },
  {
   "cell_type": "code",
   "execution_count": null,
   "metadata": {
    "execution": {
     "iopub.execute_input": "2021-07-02T11:03:29.727206Z",
     "iopub.status.busy": "2021-07-02T11:03:29.726557Z",
     "iopub.status.idle": "2021-07-02T11:03:29.754411Z",
     "shell.execute_reply": "2021-07-02T11:03:29.753317Z",
     "shell.execute_reply.started": "2021-07-02T11:03:29.727159Z"
    }
   },
   "outputs": [],
   "source": [
    "confusion_matrix(knn5_predict,y_test)"
   ]
  },
  {
   "cell_type": "code",
   "execution_count": null,
   "metadata": {
    "execution": {
     "iopub.execute_input": "2021-07-02T11:03:29.756231Z",
     "iopub.status.busy": "2021-07-02T11:03:29.755856Z",
     "iopub.status.idle": "2021-07-02T11:03:29.791586Z",
     "shell.execute_reply": "2021-07-02T11:03:29.790681Z",
     "shell.execute_reply.started": "2021-07-02T11:03:29.756193Z"
    }
   },
   "outputs": [],
   "source": [
    "from sklearn.metrics import classification_report\n",
    "classification_report(knn5_predict, y_test)"
   ]
  },
  {
   "cell_type": "code",
   "execution_count": null,
   "metadata": {
    "execution": {
     "iopub.execute_input": "2021-07-02T11:03:29.793153Z",
     "iopub.status.busy": "2021-07-02T11:03:29.79279Z",
     "iopub.status.idle": "2021-07-02T11:04:04.050568Z",
     "shell.execute_reply": "2021-07-02T11:04:04.049574Z",
     "shell.execute_reply.started": "2021-07-02T11:03:29.793117Z"
    }
   },
   "outputs": [],
   "source": [
    "knn_predict_final = knn5.predict(test)"
   ]
  },
  {
   "cell_type": "code",
   "execution_count": null,
   "metadata": {
    "execution": {
     "iopub.execute_input": "2021-07-02T11:04:04.052227Z",
     "iopub.status.busy": "2021-07-02T11:04:04.051851Z",
     "iopub.status.idle": "2021-07-02T11:04:04.058491Z",
     "shell.execute_reply": "2021-07-02T11:04:04.05671Z",
     "shell.execute_reply.started": "2021-07-02T11:04:04.052193Z"
    }
   },
   "outputs": [],
   "source": [
    "knn_predict_final"
   ]
  },
  {
   "cell_type": "code",
   "execution_count": null,
   "metadata": {
    "execution": {
     "iopub.execute_input": "2021-07-02T11:05:11.93213Z",
     "iopub.status.busy": "2021-07-02T11:05:11.931777Z",
     "iopub.status.idle": "2021-07-02T11:05:12.060605Z",
     "shell.execute_reply": "2021-07-02T11:05:12.059615Z",
     "shell.execute_reply.started": "2021-07-02T11:05:11.932099Z"
    }
   },
   "outputs": [],
   "source": [
    "# VERIFYING\n",
    "drawImg(test[-2])\n",
    "knn_predict_final[-2]"
   ]
  },
  {
   "cell_type": "markdown",
   "metadata": {},
   "source": [
    "# # KNN USING CENTROIDS(BALL TREE ALGORITHM)"
   ]
  },
  {
   "cell_type": "code",
   "execution_count": null,
   "metadata": {
    "execution": {
     "iopub.execute_input": "2021-07-02T11:05:20.727151Z",
     "iopub.status.busy": "2021-07-02T11:05:20.726788Z",
     "iopub.status.idle": "2021-07-02T11:12:24.509046Z",
     "shell.execute_reply": "2021-07-02T11:12:24.508116Z",
     "shell.execute_reply.started": "2021-07-02T11:05:20.727121Z"
    }
   },
   "outputs": [],
   "source": [
    "from sklearn.model_selection import train_test_split #splitting for knn(ball tree)\n",
    "\n",
    "x_train,x_test,y_train,y_test=train_test_split(X_S,Y,test_size=0.3,random_state=1)\n",
    "\n",
    "from sklearn.neighbors import KNeighborsClassifier\n",
    "\n",
    "knn=KNeighborsClassifier(n_neighbors=5,algorithm='ball_tree')\n",
    "knn.fit(x_train, y_train)\n",
    "\n",
    "knn_predict=knn.predict(x_test)\n",
    "accuracy_knn = accuracy_score(knn_predict, y_test)\n",
    "#time taken: 431s"
   ]
  },
  {
   "cell_type": "code",
   "execution_count": null,
   "metadata": {
    "execution": {
     "iopub.execute_input": "2021-07-02T11:50:37.458284Z",
     "iopub.status.busy": "2021-07-02T11:50:37.457869Z",
     "iopub.status.idle": "2021-07-02T11:50:37.463399Z",
     "shell.execute_reply": "2021-07-02T11:50:37.4626Z",
     "shell.execute_reply.started": "2021-07-02T11:50:37.458253Z"
    }
   },
   "outputs": [],
   "source": [
    "accuracy_knn"
   ]
  },
  {
   "cell_type": "code",
   "execution_count": null,
   "metadata": {
    "execution": {
     "iopub.execute_input": "2021-07-02T11:12:24.51091Z",
     "iopub.status.busy": "2021-07-02T11:12:24.51056Z",
     "iopub.status.idle": "2021-07-02T11:44:15.384361Z",
     "shell.execute_reply": "2021-07-02T11:44:15.383382Z",
     "shell.execute_reply.started": "2021-07-02T11:12:24.510874Z"
    }
   },
   "outputs": [],
   "source": [
    "from sklearn.model_selection import cross_val_score\n",
    "#ten fold cross validation\n",
    "#model with k=5 is giving highest accuracy\n",
    "\n",
    "score=cross_val_score(knn,X_S,Y,cv=10)\n",
    "#time taken:2300s"
   ]
  },
  {
   "cell_type": "code",
   "execution_count": null,
   "metadata": {
    "execution": {
     "iopub.execute_input": "2021-07-02T11:44:15.386493Z",
     "iopub.status.busy": "2021-07-02T11:44:15.386181Z",
     "iopub.status.idle": "2021-07-02T11:44:15.395081Z",
     "shell.execute_reply": "2021-07-02T11:44:15.394172Z",
     "shell.execute_reply.started": "2021-07-02T11:44:15.386457Z"
    }
   },
   "outputs": [],
   "source": [
    "score.mean()"
   ]
  },
  {
   "cell_type": "code",
   "execution_count": null,
   "metadata": {
    "execution": {
     "iopub.execute_input": "2021-07-02T11:52:22.89776Z",
     "iopub.status.busy": "2021-07-02T11:52:22.89743Z"
    }
   },
   "outputs": [],
   "source": [
    "knn_b=knn.predict(test)"
   ]
  },
  {
   "cell_type": "code",
   "execution_count": null,
   "metadata": {},
   "outputs": [],
   "source": [
    "drawImg(test[5])\n",
    "knn.predict(test)[5]"
   ]
  },
  {
   "cell_type": "markdown",
   "metadata": {},
   "source": [
    "# **** SVM CLASSIFIER****"
   ]
  },
  {
   "cell_type": "code",
   "execution_count": null,
   "metadata": {
    "scrolled": true
   },
   "outputs": [],
   "source": [
    "x_train,x_test,y_train,y_test=train_test_split(X_S,Y,train_size=0.8,random_state=1) #splitting for svm_linear\n",
    "\n",
    "type(x_train),type(x_test),type(y_train),type(y_test)"
   ]
  },
  {
   "cell_type": "code",
   "execution_count": null,
   "metadata": {},
   "outputs": [],
   "source": [
    "model_linear = SVC(kernel='linear')\n",
    "model_linear.fit(x_train, y_train)\n",
    "\n",
    "x_pred = model_linear.predict(x_test)\n",
    "#time taken:105.142s"
   ]
  },
  {
   "cell_type": "code",
   "execution_count": null,
   "metadata": {},
   "outputs": [],
   "source": [
    "x_pred"
   ]
  },
  {
   "cell_type": "code",
   "execution_count": null,
   "metadata": {},
   "outputs": [],
   "source": [
    "from sklearn.metrics import confusion_matrix\n",
    "from sklearn.metrics import accuracy_score\n",
    "confusion_matrix(x_pred,y_test), accuracy_score(x_pred,y_test)"
   ]
  },
  {
   "cell_type": "code",
   "execution_count": null,
   "metadata": {},
   "outputs": [],
   "source": [
    "from sklearn.model_selection import cross_val_score\n",
    "#ten fold cross validation\n",
    "\n",
    "svm_cv_score=cross_val_score(model_linear,X_S,Y,cv=10)\n",
    "#1211s"
   ]
  },
  {
   "cell_type": "code",
   "execution_count": null,
   "metadata": {},
   "outputs": [],
   "source": [
    "svm_cv_score, svm_cv_score.mean()"
   ]
  },
  {
   "cell_type": "code",
   "execution_count": null,
   "metadata": {},
   "outputs": [],
   "source": [
    "svm_linear_predict=model_linear.predict(test)\n",
    "# 69s"
   ]
  },
  {
   "cell_type": "code",
   "execution_count": null,
   "metadata": {},
   "outputs": [],
   "source": [
    "svm_linear_predict"
   ]
  },
  {
   "cell_type": "code",
   "execution_count": null,
   "metadata": {},
   "outputs": [],
   "source": [
    "drawImg(test[-3])\n",
    "svm_linear_predict[-3]"
   ]
  },
  {
   "cell_type": "markdown",
   "metadata": {},
   "source": [
    "# # # SVM (KERNEL =RBF)"
   ]
  },
  {
   "cell_type": "code",
   "execution_count": null,
   "metadata": {
    "execution": {
     "iopub.execute_input": "2021-07-02T10:26:22.86933Z",
     "iopub.status.busy": "2021-07-02T10:26:22.868798Z",
     "iopub.status.idle": "2021-07-02T10:26:23.975319Z",
     "shell.execute_reply": "2021-07-02T10:26:23.97406Z",
     "shell.execute_reply.started": "2021-07-02T10:26:22.869276Z"
    }
   },
   "outputs": [],
   "source": [
    "x_train,x_test,y_train,y_test=train_test_split(X_S,Y,train_size=0.8,random_state=1) #splitting for svm_rbf\n",
    "\n",
    "type(x_train),type(x_test),type(y_train),type(y_test)"
   ]
  },
  {
   "cell_type": "code",
   "execution_count": null,
   "metadata": {
    "execution": {
     "iopub.execute_input": "2021-07-02T10:26:25.396364Z",
     "iopub.status.busy": "2021-07-02T10:26:25.395905Z",
     "iopub.status.idle": "2021-07-02T10:35:53.263208Z",
     "shell.execute_reply": "2021-07-02T10:35:53.26203Z",
     "shell.execute_reply.started": "2021-07-02T10:26:25.396326Z"
    }
   },
   "outputs": [],
   "source": [
    "model_rbf = SVC(kernel='rbf')\n",
    "model_rbf.fit(x_train,y_train)\n",
    "\n",
    "x_rbf_pred = model_rbf.predict(x_test)\n",
    "x_rbf_pred\n",
    "#time taken:204s"
   ]
  },
  {
   "cell_type": "code",
   "execution_count": null,
   "metadata": {
    "execution": {
     "iopub.execute_input": "2021-07-02T10:36:34.879983Z",
     "iopub.status.busy": "2021-07-02T10:36:34.87949Z",
     "iopub.status.idle": "2021-07-02T10:36:34.927789Z",
     "shell.execute_reply": "2021-07-02T10:36:34.926694Z",
     "shell.execute_reply.started": "2021-07-02T10:36:34.879935Z"
    }
   },
   "outputs": [],
   "source": [
    "confusion_matrix(x_rbf_pred,y_test), accuracy_score(x_rbf_pred,y_test)"
   ]
  },
  {
   "cell_type": "code",
   "execution_count": null,
   "metadata": {},
   "outputs": [],
   "source": [
    "from sklearn.model_selection import cross_val_score\n",
    "#ten fold cross validation\n",
    "#model with k=5 is giving highest accuracy\n",
    "\n",
    "score=cross_val_score(model_rbf,X_S,Y,cv=10)\n",
    "#1290s"
   ]
  },
  {
   "cell_type": "code",
   "execution_count": null,
   "metadata": {},
   "outputs": [],
   "source": [
    "score"
   ]
  },
  {
   "cell_type": "code",
   "execution_count": null,
   "metadata": {
    "execution": {
     "iopub.execute_input": "2021-07-02T10:37:05.756252Z",
     "iopub.status.busy": "2021-07-02T10:37:05.755809Z",
     "iopub.status.idle": "2021-07-02T10:46:45.847364Z",
     "shell.execute_reply": "2021-07-02T10:46:45.846051Z",
     "shell.execute_reply.started": "2021-07-02T10:37:05.756209Z"
    }
   },
   "outputs": [],
   "source": [
    "svm_rbf_predict=model_rbf.predict(test)\n",
    "#time taken:204s"
   ]
  },
  {
   "cell_type": "code",
   "execution_count": null,
   "metadata": {
    "execution": {
     "iopub.execute_input": "2021-07-02T10:46:45.85399Z",
     "iopub.status.busy": "2021-07-02T10:46:45.853621Z",
     "iopub.status.idle": "2021-07-02T10:46:45.873074Z",
     "shell.execute_reply": "2021-07-02T10:46:45.863125Z",
     "shell.execute_reply.started": "2021-07-02T10:46:45.85395Z"
    }
   },
   "outputs": [],
   "source": [
    "svm_rbf_predict"
   ]
  },
  {
   "cell_type": "code",
   "execution_count": null,
   "metadata": {
    "execution": {
     "iopub.execute_input": "2021-07-02T10:46:45.894904Z",
     "iopub.status.busy": "2021-07-02T10:46:45.894449Z",
     "iopub.status.idle": "2021-07-02T10:46:46.324257Z",
     "shell.execute_reply": "2021-07-02T10:46:46.323397Z",
     "shell.execute_reply.started": "2021-07-02T10:46:45.894864Z"
    }
   },
   "outputs": [],
   "source": [
    "drawImg(test[2])\n",
    "svm_rbf_predict[2]"
   ]
  },
  {
   "cell_type": "markdown",
   "metadata": {},
   "source": [
    "# # # # DECISION TREE CLASSIFIER\n"
   ]
  },
  {
   "cell_type": "code",
   "execution_count": null,
   "metadata": {
    "execution": {
     "iopub.execute_input": "2021-07-02T09:48:55.215244Z",
     "iopub.status.busy": "2021-07-02T09:48:55.214877Z",
     "iopub.status.idle": "2021-07-02T09:48:55.594756Z",
     "shell.execute_reply": "2021-07-02T09:48:55.593802Z",
     "shell.execute_reply.started": "2021-07-02T09:48:55.215214Z"
    }
   },
   "outputs": [],
   "source": [
    "X_train,X_test,Y_train,Y_test=train_test_split(X_S,Y,train_size=0.8,random_state=1) #splitting for decision tree\n",
    "\n",
    "type(X_train),type(X_test),type(Y_train),type(Y_test)"
   ]
  },
  {
   "cell_type": "code",
   "execution_count": null,
   "metadata": {
    "execution": {
     "iopub.execute_input": "2021-07-02T09:48:56.698745Z",
     "iopub.status.busy": "2021-07-02T09:48:56.698407Z",
     "iopub.status.idle": "2021-07-02T09:49:06.794078Z",
     "shell.execute_reply": "2021-07-02T09:49:06.793265Z",
     "shell.execute_reply.started": "2021-07-02T09:48:56.698713Z"
    }
   },
   "outputs": [],
   "source": [
    "from sklearn.preprocessing import StandardScaler\n",
    "from sklearn.tree import DecisionTreeClassifier\n",
    "\n",
    "classifier=DecisionTreeClassifier(criterion=\"entropy\",random_state=1)\n",
    "classifier.fit(X_train,Y_train)\n",
    "Y_pred=classifier.predict(X_test)\n",
    "acc_dt=accuracy_score(Y_test, Y_pred)\n",
    "#9.51s"
   ]
  },
  {
   "cell_type": "code",
   "execution_count": null,
   "metadata": {
    "execution": {
     "iopub.execute_input": "2021-07-02T09:49:45.132597Z",
     "iopub.status.busy": "2021-07-02T09:49:45.132264Z",
     "iopub.status.idle": "2021-07-02T09:49:45.140464Z",
     "shell.execute_reply": "2021-07-02T09:49:45.139419Z",
     "shell.execute_reply.started": "2021-07-02T09:49:45.132567Z"
    }
   },
   "outputs": [],
   "source": [
    "acc_dt"
   ]
  },
  {
   "cell_type": "markdown",
   "metadata": {
    "execution": {
     "iopub.execute_input": "2021-07-02T09:51:14.100453Z",
     "iopub.status.busy": "2021-07-02T09:51:14.100121Z",
     "iopub.status.idle": "2021-07-02T09:51:14.105858Z",
     "shell.execute_reply": "2021-07-02T09:51:14.104712Z",
     "shell.execute_reply.started": "2021-07-02T09:51:14.100423Z"
    }
   },
   "source": [
    "#grid_param = {\n",
    "    'criterion': ['gini', 'entropy'],\n",
    "    'max_depth' : range(1,15,1),\n",
    "    'min_samples_leaf' : range(1,10,1),\n",
    "    'min_samples_split': range(2,10,1),\n",
    "    'splitter' : ['best', 'random'],\n",
    "    'max_features' : ['auto','log2'], \n",
    "}"
   ]
  },
  {
   "cell_type": "markdown",
   "metadata": {
    "execution": {
     "iopub.execute_input": "2021-07-02T09:51:16.41356Z",
     "iopub.status.busy": "2021-07-02T09:51:16.41324Z"
    }
   },
   "source": [
    "grid_search = GridSearchCV(estimator=classifier,\n",
    "                     param_grid=grid_param,\n",
    "                     cv=5,\n",
    "                    n_jobs =-1,verbose=2)\n",
    "grid_search.fit(X_train,Y_train)\n",
    "best_parameters = grid_search.best_params_\n",
    "print(best_parameters)"
   ]
  },
  {
   "cell_type": "markdown",
   "metadata": {},
   "source": [
    "\n",
    "dt_clf = DecisionTreeClassifier(criterion = 'entropy', max_depth =13,max_features=\"auto\", min_samples_leaf= 3, min_samples_split= 4, splitter ='best')\n",
    "dt_clf.fit(x_train,y_train)"
   ]
  },
  {
   "cell_type": "code",
   "execution_count": null,
   "metadata": {},
   "outputs": [],
   "source": [
    "from sklearn.model_selection import cross_val_score\n",
    "\n",
    "dt_cv_score=cross_val_score(classifier,X_S,Y,cv=10)"
   ]
  },
  {
   "cell_type": "code",
   "execution_count": null,
   "metadata": {},
   "outputs": [],
   "source": [
    "dt_cv_score"
   ]
  },
  {
   "cell_type": "code",
   "execution_count": null,
   "metadata": {},
   "outputs": [],
   "source": [
    "dt_cv_score.mean()"
   ]
  },
  {
   "cell_type": "code",
   "execution_count": null,
   "metadata": {},
   "outputs": [],
   "source": [
    "dt_final = classifier.predict(test)\n",
    "dt_final"
   ]
  },
  {
   "cell_type": "code",
   "execution_count": null,
   "metadata": {
    "execution": {
     "iopub.execute_input": "2021-07-02T10:25:40.798147Z",
     "iopub.status.busy": "2021-07-02T10:25:40.797659Z",
     "iopub.status.idle": "2021-07-02T10:25:41.13408Z",
     "shell.execute_reply": "2021-07-02T10:25:41.131165Z",
     "shell.execute_reply.started": "2021-07-02T10:25:40.798091Z"
    }
   },
   "outputs": [],
   "source": [
    "drawImg(test[-2])\n",
    "dt_final[-2]"
   ]
  },
  {
   "cell_type": "markdown",
   "metadata": {},
   "source": [
    "# RANDOM FOREST CLASSIFIER"
   ]
  },
  {
   "cell_type": "code",
   "execution_count": 9,
   "metadata": {
    "execution": {
     "iopub.execute_input": "2021-07-02T14:14:17.286703Z",
     "iopub.status.busy": "2021-07-02T14:14:17.28639Z",
     "iopub.status.idle": "2021-07-02T14:14:17.662875Z",
     "shell.execute_reply": "2021-07-02T14:14:17.662138Z",
     "shell.execute_reply.started": "2021-07-02T14:14:17.286672Z"
    },
    "scrolled": false
   },
   "outputs": [
    {
     "data": {
      "text/plain": [
       "(numpy.ndarray, numpy.ndarray, numpy.ndarray, numpy.ndarray)"
      ]
     },
     "execution_count": 9,
     "metadata": {},
     "output_type": "execute_result"
    }
   ],
   "source": [
    "X_train_rf,X_test_rf,Y_train_rf,Y_test_rf = train_test_split(X_S,Y,train_size=0.8,random_state=1) #splitting for Random Forest\n",
    "\n",
    "type(X_train_rf),type(X_test_rf),type(Y_train_rf),type(Y_test_rf)"
   ]
  },
  {
   "cell_type": "code",
   "execution_count": 11,
   "metadata": {
    "execution": {
     "iopub.execute_input": "2021-07-02T14:14:19.806931Z",
     "iopub.status.busy": "2021-07-02T14:14:19.806606Z",
     "iopub.status.idle": "2021-07-02T14:14:36.816025Z",
     "shell.execute_reply": "2021-07-02T14:14:36.815186Z",
     "shell.execute_reply.started": "2021-07-02T14:14:19.8069Z"
    }
   },
   "outputs": [],
   "source": [
    "from sklearn.ensemble import RandomForestClassifier\n",
    "rfcl=RandomForestClassifier()\n",
    "rfcl=rfcl.fit(X_train_rf,Y_train_rf)\n",
    "#time taken:18s"
   ]
  },
  {
   "cell_type": "code",
   "execution_count": 12,
   "metadata": {
    "execution": {
     "iopub.execute_input": "2021-07-02T14:15:24.141705Z",
     "iopub.status.busy": "2021-07-02T14:15:24.141389Z",
     "iopub.status.idle": "2021-07-02T14:15:24.38637Z",
     "shell.execute_reply": "2021-07-02T14:15:24.38537Z",
     "shell.execute_reply.started": "2021-07-02T14:15:24.141675Z"
    }
   },
   "outputs": [
    {
     "data": {
      "text/plain": [
       "array([1, 5, 2, ..., 8, 8, 8], dtype=int64)"
      ]
     },
     "execution_count": 12,
     "metadata": {},
     "output_type": "execute_result"
    }
   ],
   "source": [
    "y_pred = rfcl.predict(X_test_rf)\n",
    "y_pred"
   ]
  },
  {
   "cell_type": "code",
   "execution_count": 13,
   "metadata": {
    "execution": {
     "iopub.execute_input": "2021-07-02T14:15:26.504575Z",
     "iopub.status.busy": "2021-07-02T14:15:26.504259Z",
     "iopub.status.idle": "2021-07-02T14:15:26.622493Z",
     "shell.execute_reply": "2021-07-02T14:15:26.621458Z",
     "shell.execute_reply.started": "2021-07-02T14:15:26.504546Z"
    }
   },
   "outputs": [
    {
     "data": {
      "image/png": "[encoded data removed]",
      "text/plain": [
       "<Figure size 432x288 with 1 Axes>"
      ]
     },
     "metadata": {
      "needs_background": "light"
     },
     "output_type": "display_data"
    },
    {
     "data": {
      "text/plain": [
       "6"
      ]
     },
     "execution_count": 13,
     "metadata": {},
     "output_type": "execute_result"
    }
   ],
   "source": [
    "drawImg(X_test_rf[-4])\n",
    "y_pred[-4]"
   ]
  },
  {
   "cell_type": "code",
   "execution_count": 14,
   "metadata": {
    "execution": {
     "iopub.execute_input": "2021-07-02T14:15:35.294365Z",
     "iopub.status.busy": "2021-07-02T14:15:35.293996Z",
     "iopub.status.idle": "2021-07-02T14:15:35.303647Z",
     "shell.execute_reply": "2021-07-02T14:15:35.302867Z",
     "shell.execute_reply.started": "2021-07-02T14:15:35.294332Z"
    }
   },
   "outputs": [
    {
     "data": {
      "text/plain": [
       "0.9632142857142857"
      ]
     },
     "execution_count": 14,
     "metadata": {},
     "output_type": "execute_result"
    }
   ],
   "source": [
    "accuracy_score(y_pred,Y_test_rf)"
   ]
  },
  {
   "cell_type": "code",
   "execution_count": null,
   "metadata": {
    "execution": {
     "iopub.execute_input": "2021-07-02T14:18:16.648425Z",
     "iopub.status.busy": "2021-07-02T14:18:16.648059Z",
     "iopub.status.idle": "2021-07-02T14:18:16.653132Z",
     "shell.execute_reply": "2021-07-02T14:18:16.65216Z",
     "shell.execute_reply.started": "2021-07-02T14:18:16.648394Z"
    }
   },
   "outputs": [],
   "source": [
    "params = {\n",
    "    'max_depth': [1, 2, 5, 10, 20],\n",
    "    'min_samples_leaf': [5, 10, 20, 50, 100],\n",
    "    'max_features': [2,3,4],\n",
    "    'n_estimators': [10, 30, 50, 100, 200]\n",
    "}"
   ]
  },
  {
   "cell_type": "code",
   "execution_count": null,
   "metadata": {
    "execution": {
     "iopub.execute_input": "2021-07-02T14:18:44.369879Z",
     "iopub.status.busy": "2021-07-02T14:18:44.369512Z",
     "iopub.status.idle": "2021-07-02T14:18:44.374105Z",
     "shell.execute_reply": "2021-07-02T14:18:44.373297Z",
     "shell.execute_reply.started": "2021-07-02T14:18:44.369846Z"
    }
   },
   "outputs": [],
   "source": [
    "# Instantiate the grid search model\n",
    "grid_search = GridSearchCV(estimator=rfcl, param_grid=params, \n",
    "                          cv=4, n_jobs=-1, verbose=1, scoring = \"accuracy\")"
   ]
  },
  {
   "cell_type": "code",
   "execution_count": null,
   "metadata": {
    "execution": {
     "iopub.execute_input": "2021-07-02T14:19:33.397387Z",
     "iopub.status.busy": "2021-07-02T14:19:33.397037Z",
     "iopub.status.idle": "2021-07-02T14:39:02.986118Z",
     "shell.execute_reply": "2021-07-02T14:39:02.985207Z",
     "shell.execute_reply.started": "2021-07-02T14:19:33.397353Z"
    }
   },
   "outputs": [],
   "source": [
    "grid_search.fit(X_train_rf,Y_train_rf)"
   ]
  },
  {
   "cell_type": "code",
   "execution_count": null,
   "metadata": {
    "execution": {
     "iopub.execute_input": "2021-07-02T14:56:32.843991Z",
     "iopub.status.busy": "2021-07-02T14:56:32.843673Z",
     "iopub.status.idle": "2021-07-02T14:56:32.853282Z",
     "shell.execute_reply": "2021-07-02T14:56:32.852474Z",
     "shell.execute_reply.started": "2021-07-02T14:56:32.843961Z"
    }
   },
   "outputs": [],
   "source": [
    "rf_best = grid_search.best_estimator_\n",
    "rf_best"
   ]
  },
  {
   "cell_type": "code",
   "execution_count": null,
   "metadata": {
    "execution": {
     "iopub.execute_input": "2021-07-02T15:00:13.938296Z",
     "iopub.status.busy": "2021-07-02T15:00:13.937935Z",
     "iopub.status.idle": "2021-07-02T15:00:20.589889Z",
     "shell.execute_reply": "2021-07-02T15:00:20.589064Z",
     "shell.execute_reply.started": "2021-07-02T15:00:13.938263Z"
    }
   },
   "outputs": [],
   "source": [
    "from sklearn.ensemble import RandomForestClassifier\n",
    "\n",
    "rfcl_grid=RandomForestClassifier(max_depth=20, max_features=4, min_samples_leaf=5,\n",
    "                       n_estimators=200)\n",
    "rfcl_grid=rfcl_grid.fit(X_train_rf,Y_train_rf)"
   ]
  },
  {
   "cell_type": "code",
   "execution_count": null,
   "metadata": {
    "execution": {
     "iopub.execute_input": "2021-07-02T15:00:51.585309Z",
     "iopub.status.busy": "2021-07-02T15:00:51.58495Z",
     "iopub.status.idle": "2021-07-02T15:00:51.840181Z",
     "shell.execute_reply": "2021-07-02T15:00:51.839164Z",
     "shell.execute_reply.started": "2021-07-02T15:00:51.585276Z"
    }
   },
   "outputs": [],
   "source": [
    "y_pred_grid = rfcl.predict(X_test_rf)\n",
    "y_pred_grid"
   ]
  },
  {
   "cell_type": "code",
   "execution_count": null,
   "metadata": {
    "execution": {
     "iopub.execute_input": "2021-07-02T15:01:49.687734Z",
     "iopub.status.busy": "2021-07-02T15:01:49.687412Z",
     "iopub.status.idle": "2021-07-02T15:01:49.694584Z",
     "shell.execute_reply": "2021-07-02T15:01:49.693598Z",
     "shell.execute_reply.started": "2021-07-02T15:01:49.687703Z"
    }
   },
   "outputs": [],
   "source": [
    "accuracy_score(y_pred_grid,Y_test_rf)"
   ]
  },
  {
   "cell_type": "code",
   "execution_count": null,
   "metadata": {
    "execution": {
     "iopub.execute_input": "2021-07-02T15:02:26.290262Z",
     "iopub.status.busy": "2021-07-02T15:02:26.289922Z",
     "iopub.status.idle": "2021-07-02T15:05:47.846339Z",
     "shell.execute_reply": "2021-07-02T15:05:47.845418Z",
     "shell.execute_reply.started": "2021-07-02T15:02:26.29023Z"
    }
   },
   "outputs": [],
   "source": [
    "from sklearn.model_selection import cross_val_score\n",
    "\n",
    "rfcl_cv_score=cross_val_score(rfcl,X_S,Y,cv=10)\n",
    "#time taken:203s"
   ]
  },
  {
   "cell_type": "code",
   "execution_count": null,
   "metadata": {
    "execution": {
     "iopub.execute_input": "2021-07-02T15:05:51.810317Z",
     "iopub.status.busy": "2021-07-02T15:05:51.809942Z",
     "iopub.status.idle": "2021-07-02T15:05:51.816023Z",
     "shell.execute_reply": "2021-07-02T15:05:51.814845Z",
     "shell.execute_reply.started": "2021-07-02T15:05:51.810283Z"
    }
   },
   "outputs": [],
   "source": [
    "rfcl_cv_score, rfcl_cv_score.mean()"
   ]
  },
  {
   "cell_type": "code",
   "execution_count": null,
   "metadata": {
    "execution": {
     "iopub.execute_input": "2021-07-02T15:06:39.76443Z",
     "iopub.status.busy": "2021-07-02T15:06:39.764072Z",
     "iopub.status.idle": "2021-07-02T15:06:39.782648Z",
     "shell.execute_reply": "2021-07-02T15:06:39.78168Z",
     "shell.execute_reply.started": "2021-07-02T15:06:39.764398Z"
    }
   },
   "outputs": [],
   "source": [
    "confusion_matrix(y_pred,Y_test_rf)"
   ]
  },
  {
   "cell_type": "code",
   "execution_count": null,
   "metadata": {
    "execution": {
     "iopub.execute_input": "2021-07-02T15:07:09.031718Z",
     "iopub.status.busy": "2021-07-02T15:07:09.031387Z",
     "iopub.status.idle": "2021-07-02T15:07:09.821861Z",
     "shell.execute_reply": "2021-07-02T15:07:09.82088Z",
     "shell.execute_reply.started": "2021-07-02T15:07:09.031688Z"
    }
   },
   "outputs": [],
   "source": [
    "rfcl_final = rfcl.predict(test)#we should also normalize test .\n",
    "rfcl_final"
   ]
  },
  {
   "cell_type": "code",
   "execution_count": null,
   "metadata": {
    "execution": {
     "iopub.execute_input": "2021-07-02T15:33:02.20741Z",
     "iopub.status.busy": "2021-07-02T15:33:02.20706Z",
     "iopub.status.idle": "2021-07-02T15:33:02.212027Z",
     "shell.execute_reply": "2021-07-02T15:33:02.210973Z",
     "shell.execute_reply.started": "2021-07-02T15:33:02.207379Z"
    }
   },
   "outputs": [],
   "source": [
    "result = rfcl_final #creating the submission.csv\n",
    "\n",
    "result = pd.Series(result,name=\"Label_pred\")"
   ]
  },
  {
   "cell_type": "code",
   "execution_count": null,
   "metadata": {
    "execution": {
     "iopub.execute_input": "2021-07-02T15:33:18.883276Z",
     "iopub.status.busy": "2021-07-02T15:33:18.882921Z",
     "iopub.status.idle": "2021-07-02T15:33:18.934171Z",
     "shell.execute_reply": "2021-07-02T15:33:18.933329Z",
     "shell.execute_reply.started": "2021-07-02T15:33:18.883236Z"
    }
   },
   "outputs": [],
   "source": [
    "submission = pd.concat([pd.Series(range(1,28001),name = \"Image_Serial\"),result],axis = 1)\n",
    "\n",
    "submission=submission.to_csv(\"submission.csv\",index=False)"
   ]
  },
  {
   "cell_type": "code",
   "execution_count": null,
   "metadata": {
    "execution": {
     "iopub.execute_input": "2021-07-02T15:16:17.584488Z",
     "iopub.status.busy": "2021-07-02T15:16:17.584082Z",
     "iopub.status.idle": "2021-07-02T15:16:17.704502Z",
     "shell.execute_reply": "2021-07-02T15:16:17.703529Z",
     "shell.execute_reply.started": "2021-07-02T15:16:17.584452Z"
    }
   },
   "outputs": [],
   "source": [
    "drawImg(test[500])\n",
    "rfcl_final[500]"
   ]
  },
  {
   "cell_type": "code",
   "execution_count": null,
   "metadata": {
    "execution": {
     "iopub.execute_input": "2021-07-02T15:34:18.685234Z",
     "iopub.status.busy": "2021-07-02T15:34:18.684896Z",
     "iopub.status.idle": "2021-07-02T15:34:18.799844Z",
     "shell.execute_reply": "2021-07-02T15:34:18.798949Z",
     "shell.execute_reply.started": "2021-07-02T15:34:18.685201Z"
    }
   },
   "outputs": [],
   "source": [
    "drawImg(test[0])\n",
    "rfcl_final[0]"
   ]
  },
  {
   "cell_type": "code",
   "execution_count": null,
   "metadata": {
    "execution": {
     "iopub.execute_input": "2021-07-02T15:17:41.301684Z",
     "iopub.status.busy": "2021-07-02T15:17:41.301361Z",
     "iopub.status.idle": "2021-07-02T15:17:41.606481Z",
     "shell.execute_reply": "2021-07-02T15:17:41.605514Z",
     "shell.execute_reply.started": "2021-07-02T15:17:41.301652Z"
    }
   },
   "outputs": [],
   "source": [
    "drawImg(test[642])\n",
    "rfcl_final[642]"
   ]
  },
  {
   "cell_type": "code",
   "execution_count": null,
   "metadata": {
    "execution": {
     "iopub.execute_input": "2021-07-02T15:18:16.874976Z",
     "iopub.status.busy": "2021-07-02T15:18:16.874659Z",
     "iopub.status.idle": "2021-07-02T15:18:16.986214Z",
     "shell.execute_reply": "2021-07-02T15:18:16.985278Z",
     "shell.execute_reply.started": "2021-07-02T15:18:16.874946Z"
    }
   },
   "outputs": [],
   "source": [
    "drawImg(test[10005])\n",
    "rfcl_final[10005]"
   ]
  },
  {
   "cell_type": "code",
   "execution_count": null,
   "metadata": {},
   "outputs": [],
   "source": []
  }
 ],
 "metadata": {
  "kernelspec": {
   "display_name": "Python 3",
   "language": "python",
   "name": "python3"
  },
  "language_info": {
   "codemirror_mode": {
    "name": "ipython",
    "version": 3
   },
   "file_extension": ".py",
   "mimetype": "text/x-python",
   "name": "python",
   "nbconvert_exporter": "python",
   "pygments_lexer": "ipython3",
   "version": "3.8.8"
  }
 },
 "nbformat": 4,
 "nbformat_minor": 4
}
